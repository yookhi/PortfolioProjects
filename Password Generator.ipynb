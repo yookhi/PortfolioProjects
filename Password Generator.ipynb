{
 "cells": [
  {
   "cell_type": "code",
   "execution_count": 1,
   "id": "ee4785a4",
   "metadata": {},
   "outputs": [],
   "source": [
    "import random\n",
    "\n",
    "chars = \"ABCDEFGHIJKLMNOPQRSTUVWXYZabcdefghijklmnopqrstuvwxyz1234567890!@#$%^&*\""
   ]
  },
  {
   "cell_type": "code",
   "execution_count": null,
   "id": "3c834261",
   "metadata": {},
   "outputs": [
    {
     "name": "stdout",
     "output_type": "stream",
     "text": [
      "How many characters do you want in your password?: 20\n",
      "How many passwords would you like?: 1\n",
      "Here is your password:  !$@@jC1te^fMgNhjf3*W\n"
     ]
    }
   ],
   "source": [
    "while 1:\n",
    "    password_len = int(input(\"How many characters do you want in your password?: \"))\n",
    "    password_count = int(input(\"How many passwords would you like?: \"))\n",
    "    if password_len and password_count > 0:\n",
    "        for x in range(0,password_count):\n",
    "            password = \"\"\n",
    "            for x in range(0,password_len):\n",
    "                password_char = random.choice(chars)\n",
    "                password      = password + password_char\n",
    "            print(\"Here is your password: \", password)\n",
    "    else:\n",
    "        print(\"Please enter a number greater than 0\")"
   ]
  }
 ],
 "metadata": {
  "kernelspec": {
   "display_name": "Python 3",
   "language": "python",
   "name": "python3"
  },
  "language_info": {
   "codemirror_mode": {
    "name": "ipython",
    "version": 3
   },
   "file_extension": ".py",
   "mimetype": "text/x-python",
   "name": "python",
   "nbconvert_exporter": "python",
   "pygments_lexer": "ipython3",
   "version": "3.7.11"
  }
 },
 "nbformat": 4,
 "nbformat_minor": 5
}
